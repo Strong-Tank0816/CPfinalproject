{
 "cells": [
  {
   "cell_type": "markdown",
   "metadata": {},
   "source": [
    "This file is for Problem 1. First, we need to input our function and set up our variable."
   ]
  },
  {
   "cell_type": "code",
   "execution_count": 1,
   "metadata": {},
   "outputs": [],
   "source": [
    "import numpy as np\n",
    "import matplotlib.pyplot as plt\n",
    "from nbodywork import Particles, NBodySimulator\n",
    "from nbodywork import load_files, save_movie\n",
    "from numba import set_num_threads\n",
    "from numba import jit, njit, prange"
   ]
  },
  {
   "cell_type": "markdown",
   "metadata": {},
   "source": [
    "If one wants to really compare result of problem 1 and 2, one should not use numba(i.e. set nthreads=1). I will talk about it at the end."
   ]
  },
  {
   "cell_type": "code",
   "execution_count": 2,
   "metadata": {},
   "outputs": [],
   "source": [
    "nthreads = 12\n",
    "set_num_threads(nthreads)"
   ]
  },
  {
   "cell_type": "code",
   "execution_count": 3,
   "metadata": {},
   "outputs": [],
   "source": [
    "time = 0\n",
    "num_particles = 100             #np.randam.normal(平均值，標準差，output樣式)\n",
    "mass = np.full((num_particles,1),20/num_particles)      #np.fall(陣列大小，每一個數值為何)\n",
    "position = np.random.normal(0,1,(num_particles,3))\n",
    "velocity = np.random.normal(0,1,(num_particles,3))\n",
    "accleration = np.random.normal(0,1,(num_particles,3))\n",
    "tag = np.linspace(1,num_particles,num_particles)"
   ]
  },
  {
   "cell_type": "code",
   "execution_count": 4,
   "metadata": {},
   "outputs": [],
   "source": [
    "particles = Particles(N = num_particles)             #將設好的初始值丟入particles class\n",
    "particles.mass = mass\n",
    "particles.position = position\n",
    "particles.velocity = velocity\n",
    "particles.acceleration = accleration\n",
    "particles.tag = tag"
   ]
  },
  {
   "cell_type": "markdown",
   "metadata": {},
   "source": [
    "after setting up, we can first test our result(at t=0):"
   ]
  },
  {
   "cell_type": "code",
   "execution_count": 5,
   "metadata": {},
   "outputs": [
    {
     "ename": "TypingError",
     "evalue": "Failed in nopython mode pipeline (step: nopython frontend)\n\u001b[1m\u001b[1mNo implementation of function Function(<built-in function setitem>) found for signature:\n \n >>> setitem(array(float64, 1d, C), int64, array(float64, 1d, C))\n \nThere are 16 candidate implementations:\n\u001b[1m  - Of which 16 did not match due to:\n  Overload of function 'setitem': File: <numerous>: Line N/A.\n    With argument(s): '(array(float64, 1d, C), int64, array(float64, 1d, C))':\u001b[0m\n\u001b[1m   No match.\u001b[0m\n\u001b[0m\n\u001b[0m\u001b[1mDuring: typing of setitem at c:\\Users\\User\\code\\HW2\\nbodywork\\particles.py (11)\u001b[0m\n\u001b[1m\nFile \"nbodywork\\particles.py\", line 11:\u001b[0m\n\u001b[1mdef calculate_PE_kernel(nparticles,mass,position,G=0.1,rsoft=0.01):\n    <source elided>\n                r = np.sqrt(np.sum(rij**2) + rsoft**2)\n\u001b[1m                pe[i] = pe[i] - G * mass[i] * mass[j] / (r)\n\u001b[0m                \u001b[1m^\u001b[0m\u001b[0m\n",
     "output_type": "error",
     "traceback": [
      "\u001b[1;31m---------------------------------------------------------------------------\u001b[0m",
      "\u001b[1;31mTypingError\u001b[0m                               Traceback (most recent call last)",
      "Cell \u001b[1;32mIn[5], line 1\u001b[0m\n\u001b[1;32m----> 1\u001b[0m \u001b[43mparticles\u001b[49m\u001b[38;5;241;43m.\u001b[39;49m\u001b[43moutput\u001b[49m\u001b[43m(\u001b[49m\u001b[43mfilename\u001b[49m\u001b[38;5;241;43m=\u001b[39;49m\u001b[38;5;124;43m'\u001b[39;49m\u001b[38;5;124;43mdata.txt\u001b[39;49m\u001b[38;5;124;43m'\u001b[39;49m\u001b[43m)\u001b[49m\n",
      "File \u001b[1;32mc:\\Users\\User\\code\\HW2\\nbodywork\\particles.py:69\u001b[0m, in \u001b[0;36mParticles.output\u001b[1;34m(self, filename)\u001b[0m\n\u001b[0;32m     67\u001b[0m time \u001b[38;5;241m=\u001b[39m \u001b[38;5;28mself\u001b[39m\u001b[38;5;241m.\u001b[39mtime\n\u001b[0;32m     68\u001b[0m \u001b[38;5;28mself\u001b[39m\u001b[38;5;241m.\u001b[39mcalculate_KE()\n\u001b[1;32m---> 69\u001b[0m \u001b[38;5;28;43mself\u001b[39;49m\u001b[38;5;241;43m.\u001b[39;49m\u001b[43mcalculate_PE\u001b[49m\u001b[43m(\u001b[49m\u001b[43m)\u001b[49m\n\u001b[0;32m     70\u001b[0m header \u001b[38;5;241m=\u001b[39m \u001b[38;5;124m\"\"\"\u001b[39m\n\u001b[0;32m     71\u001b[0m \u001b[38;5;124m        ----------------------------------------------------\u001b[39m\n\u001b[0;32m     72\u001b[0m \u001b[38;5;124m        Data from a 3D direct N-body simulation. \u001b[39m\n\u001b[1;32m   (...)\u001b[0m\n\u001b[0;32m     77\u001b[0m \u001b[38;5;124m        ----------------------------------------------------\u001b[39m\n\u001b[0;32m     78\u001b[0m \u001b[38;5;124m        \u001b[39m\u001b[38;5;124m\"\"\"\u001b[39m\n\u001b[0;32m     79\u001b[0m header \u001b[38;5;241m+\u001b[39m\u001b[38;5;241m=\u001b[39m \u001b[38;5;124m\"\u001b[39m\u001b[38;5;124mTime = \u001b[39m\u001b[38;5;132;01m{}\u001b[39;00m\u001b[38;5;124m\"\u001b[39m\u001b[38;5;241m.\u001b[39mformat(time)\n",
      "File \u001b[1;32mc:\\Users\\User\\code\\HW2\\nbodywork\\particles.py:57\u001b[0m, in \u001b[0;36mParticles.calculate_PE\u001b[1;34m(self, G, rsoft)\u001b[0m\n\u001b[0;32m     55\u001b[0m mass \u001b[38;5;241m=\u001b[39m \u001b[38;5;28mself\u001b[39m\u001b[38;5;241m.\u001b[39mmass\n\u001b[0;32m     56\u001b[0m position \u001b[38;5;241m=\u001b[39m \u001b[38;5;28mself\u001b[39m\u001b[38;5;241m.\u001b[39mposition\n\u001b[1;32m---> 57\u001b[0m \u001b[38;5;28mself\u001b[39m\u001b[38;5;241m.\u001b[39mpe \u001b[38;5;241m=\u001b[39m \u001b[43mcalculate_PE_kernel\u001b[49m\u001b[43m(\u001b[49m\u001b[43mnparticles\u001b[49m\u001b[43m,\u001b[49m\u001b[43mmass\u001b[49m\u001b[43m,\u001b[49m\u001b[43mposition\u001b[49m\u001b[43m)\u001b[49m\n",
      "File \u001b[1;32mc:\\Users\\User\\anaconda3\\envs\\computationphysics2024\\Lib\\site-packages\\numba\\core\\dispatcher.py:468\u001b[0m, in \u001b[0;36m_DispatcherBase._compile_for_args\u001b[1;34m(self, *args, **kws)\u001b[0m\n\u001b[0;32m    464\u001b[0m         msg \u001b[38;5;241m=\u001b[39m (\u001b[38;5;124mf\u001b[39m\u001b[38;5;124m\"\u001b[39m\u001b[38;5;132;01m{\u001b[39;00m\u001b[38;5;28mstr\u001b[39m(e)\u001b[38;5;241m.\u001b[39mrstrip()\u001b[38;5;132;01m}\u001b[39;00m\u001b[38;5;124m \u001b[39m\u001b[38;5;130;01m\\n\u001b[39;00m\u001b[38;5;130;01m\\n\u001b[39;00m\u001b[38;5;124mThis error may have been caused \u001b[39m\u001b[38;5;124m\"\u001b[39m\n\u001b[0;32m    465\u001b[0m                \u001b[38;5;124mf\u001b[39m\u001b[38;5;124m\"\u001b[39m\u001b[38;5;124mby the following argument(s):\u001b[39m\u001b[38;5;130;01m\\n\u001b[39;00m\u001b[38;5;132;01m{\u001b[39;00margs_str\u001b[38;5;132;01m}\u001b[39;00m\u001b[38;5;130;01m\\n\u001b[39;00m\u001b[38;5;124m\"\u001b[39m)\n\u001b[0;32m    466\u001b[0m         e\u001b[38;5;241m.\u001b[39mpatch_message(msg)\n\u001b[1;32m--> 468\u001b[0m     \u001b[43merror_rewrite\u001b[49m\u001b[43m(\u001b[49m\u001b[43me\u001b[49m\u001b[43m,\u001b[49m\u001b[43m \u001b[49m\u001b[38;5;124;43m'\u001b[39;49m\u001b[38;5;124;43mtyping\u001b[39;49m\u001b[38;5;124;43m'\u001b[39;49m\u001b[43m)\u001b[49m\n\u001b[0;32m    469\u001b[0m \u001b[38;5;28;01mexcept\u001b[39;00m errors\u001b[38;5;241m.\u001b[39mUnsupportedError \u001b[38;5;28;01mas\u001b[39;00m e:\n\u001b[0;32m    470\u001b[0m     \u001b[38;5;66;03m# Something unsupported is present in the user code, add help info\u001b[39;00m\n\u001b[0;32m    471\u001b[0m     error_rewrite(e, \u001b[38;5;124m'\u001b[39m\u001b[38;5;124munsupported_error\u001b[39m\u001b[38;5;124m'\u001b[39m)\n",
      "File \u001b[1;32mc:\\Users\\User\\anaconda3\\envs\\computationphysics2024\\Lib\\site-packages\\numba\\core\\dispatcher.py:409\u001b[0m, in \u001b[0;36m_DispatcherBase._compile_for_args.<locals>.error_rewrite\u001b[1;34m(e, issue_type)\u001b[0m\n\u001b[0;32m    407\u001b[0m     \u001b[38;5;28;01mraise\u001b[39;00m e\n\u001b[0;32m    408\u001b[0m \u001b[38;5;28;01melse\u001b[39;00m:\n\u001b[1;32m--> 409\u001b[0m     \u001b[38;5;28;01mraise\u001b[39;00m e\u001b[38;5;241m.\u001b[39mwith_traceback(\u001b[38;5;28;01mNone\u001b[39;00m)\n",
      "\u001b[1;31mTypingError\u001b[0m: Failed in nopython mode pipeline (step: nopython frontend)\n\u001b[1m\u001b[1mNo implementation of function Function(<built-in function setitem>) found for signature:\n \n >>> setitem(array(float64, 1d, C), int64, array(float64, 1d, C))\n \nThere are 16 candidate implementations:\n\u001b[1m  - Of which 16 did not match due to:\n  Overload of function 'setitem': File: <numerous>: Line N/A.\n    With argument(s): '(array(float64, 1d, C), int64, array(float64, 1d, C))':\u001b[0m\n\u001b[1m   No match.\u001b[0m\n\u001b[0m\n\u001b[0m\u001b[1mDuring: typing of setitem at c:\\Users\\User\\code\\HW2\\nbodywork\\particles.py (11)\u001b[0m\n\u001b[1m\nFile \"nbodywork\\particles.py\", line 11:\u001b[0m\n\u001b[1mdef calculate_PE_kernel(nparticles,mass,position,G=0.1,rsoft=0.01):\n    <source elided>\n                r = np.sqrt(np.sum(rij**2) + rsoft**2)\n\u001b[1m                pe[i] = pe[i] - G * mass[i] * mass[j] / (r)\n\u001b[0m                \u001b[1m^\u001b[0m\u001b[0m\n"
     ]
    }
   ],
   "source": [
    "particles.output(filename='data.txt')"
   ]
  },
  {
   "cell_type": "code",
   "execution_count": null,
   "metadata": {},
   "outputs": [],
   "source": [
    "time = 0\n",
    "particles.draw(dim=3)"
   ]
  },
  {
   "cell_type": "markdown",
   "metadata": {},
   "source": [
    "After we sure that our output is fine, we could start simulating:"
   ]
  },
  {
   "cell_type": "code",
   "execution_count": null,
   "metadata": {},
   "outputs": [],
   "source": [
    "simulation = NBodySimulator(particles=particles)\n",
    "simulation.setup(G=0.1, rsoft=0.01, method='rk2',outfreq=200)  #因為dt=0.01,所以若要2秒一個數據則頻率為200*dt=2\n",
    "simulation.evolve(dt = 0.01, tmax = 10.01)"
   ]
  },
  {
   "cell_type": "markdown",
   "metadata": {},
   "source": [
    "finally, we can output our picture at time = 0,2,4,6,8,10:"
   ]
  },
  {
   "cell_type": "code",
   "execution_count": null,
   "metadata": {},
   "outputs": [],
   "source": [
    "file_paths = [\n",
    "    'data_nbody\\\\nbody_000000.dat',\n",
    "    'data_nbody\\\\nbody_000200.dat',\n",
    "    'data_nbody\\\\nbody_000400.dat',\n",
    "    'data_nbody\\\\nbody_000600.dat',\n",
    "    'data_nbody\\\\nbody_000800.dat',\n",
    "    'data_nbody\\\\nbody_001000.dat'\n",
    "]\n",
    "#讀每個輸出檔，畫出位置散佈圖\n",
    "for idx, file_path in enumerate(file_paths):\n",
    "\n",
    "    data = np.loadtxt(file_path)\n",
    "    positions_x = data[2,:]\n",
    "    positions_y = data[3,:]\n",
    " \n",
    "    plt.scatter(positions_x, positions_y, alpha=0.3, s=10)\n",
    "    plt.xlabel('X [code unit]')\n",
    "    plt.ylabel('Y [code unit]')\n",
    "    plt.xlim(-30, 30) \n",
    "    plt.ylim(-30, 30) \n",
    "    plt.title(f'Particle Positions at t = {2*idx} seconds using RK2')  \n",
    "    plt.show()"
   ]
  },
  {
   "cell_type": "markdown",
   "metadata": {},
   "source": [
    "Now is for problem 2. This problem is just repeating problem 1 with our own leap frog method. We can compare the result..."
   ]
  },
  {
   "cell_type": "code",
   "execution_count": null,
   "metadata": {},
   "outputs": [],
   "source": [
    "particles = Particles(N = num_particles)             #將設好的初始值丟入particles class\n",
    "particles.mass = mass\n",
    "particles.position = position\n",
    "particles.velocity = velocity\n",
    "particles.acceleration = accleration\n",
    "particles.tag = tag"
   ]
  },
  {
   "cell_type": "code",
   "execution_count": null,
   "metadata": {},
   "outputs": [],
   "source": [
    "simulation = NBodySimulator(particles=particles)\n",
    "simulation.setup(G=0.1, rsoft=0.01, method='frog',outfreq=200)  #因為dt=0.01,所以若要2秒一個數據則頻率為200*dt=2\n",
    "simulation.evolve(dt = 0.01, tmax = 10.01)"
   ]
  },
  {
   "cell_type": "code",
   "execution_count": null,
   "metadata": {},
   "outputs": [],
   "source": [
    "file_paths = [\n",
    "    'data_nbody\\\\nbody_000000.dat',\n",
    "    'data_nbody\\\\nbody_000200.dat',\n",
    "    'data_nbody\\\\nbody_000400.dat',\n",
    "    'data_nbody\\\\nbody_000600.dat',\n",
    "    'data_nbody\\\\nbody_000800.dat',\n",
    "    'data_nbody\\\\nbody_001000.dat'\n",
    "]\n",
    "#讀每個輸出檔，畫出位置散佈圖\n",
    "for idx, file_path in enumerate(file_paths):\n",
    "\n",
    "    data = np.loadtxt(file_path)\n",
    "    positions_x = data[2,:]\n",
    "    positions_y = data[3,:]\n",
    " \n",
    "    plt.scatter(positions_x, positions_y, alpha=0.3, s=10)\n",
    "    plt.xlabel('X [code unit]')\n",
    "    plt.ylabel('Y [code unit]')\n",
    "    plt.xlim(-30, 30) \n",
    "    plt.ylim(-30, 30) \n",
    "    plt.title(f'Particle Positions at t = {2*idx} seconds using Leap Frog method')  \n",
    "    plt.show()"
   ]
  },
  {
   "cell_type": "markdown",
   "metadata": {},
   "source": [
    "which, we can see, are very difference from simulation using RK2 method.\n",
    "\n",
    "However, I found a very intresting problem during doing homework. The problem is that when I use numba(nthreads>1), even though I am using the same method and same input, I will still got different result (one can try setting nthreads>1 and use RK2 method twice) . But when I set nthreads=1, this problem will vanished. I do not sure the reason behind this. Anyway, because of this problem, I will use nthreads=1 when I want to compare problem 1 and 2, which I can sure that the result diffrence is really because of the simulation method and is not by numba problem or something like that. "
   ]
  },
  {
   "cell_type": "markdown",
   "metadata": {},
   "source": [
    "Finally, for problem 3, I would first deal with the input and simulation again, and write down the function to calculate kinetic and potential energy(I will try to read the output file directly). After doiing all this, let's see the energy-time diagram using Euler method first:"
   ]
  },
  {
   "cell_type": "code",
   "execution_count": null,
   "metadata": {},
   "outputs": [],
   "source": [
    "particles = Particles(N = num_particles)             #將設好的初始值丟入particles class\n",
    "particles.mass = mass\n",
    "particles.position = position\n",
    "particles.velocity = velocity\n",
    "particles.acceleration = accleration\n",
    "particles.tag = tag"
   ]
  },
  {
   "cell_type": "code",
   "execution_count": null,
   "metadata": {},
   "outputs": [],
   "source": [
    "simulation = NBodySimulator(particles=particles)\n",
    "simulation.setup(G=0.1, rsoft=0.01, method='euler',outfreq=200)  #因為dt=0.01,所以若要2秒一個數據則頻率為200*dt=2\n",
    "simulation.evolve(dt = 0.01, tmax = 10.01)"
   ]
  },
  {
   "cell_type": "code",
   "execution_count": null,
   "metadata": {},
   "outputs": [],
   "source": [
    "file_paths = [\n",
    "    'data_nbody\\\\nbody_000000.dat',\n",
    "    'data_nbody\\\\nbody_000200.dat',\n",
    "    'data_nbody\\\\nbody_000400.dat',\n",
    "    'data_nbody\\\\nbody_000600.dat',\n",
    "    'data_nbody\\\\nbody_000800.dat',\n",
    "    'data_nbody\\\\nbody_001000.dat'\n",
    "]\n",
    "\n",
    "Total_Kinetic_Energy = np.zeros(len(file_paths))\n",
    "Total_Potential_Energy = np.zeros(len(file_paths))\n",
    "Total_Energy_Euler = np.zeros(len(file_paths))\n",
    "\n",
    "for idx, file_path in enumerate(file_paths):\n",
    "    data = np.loadtxt(file_path)\n",
    "    Total_Kinetic_Energy[idx] = np.sum(data[11, :])\n",
    "    Total_Potential_Energy[idx] = np.sum(data[12, :])\n",
    "    Total_Energy_Euler[idx] = Total_Kinetic_Energy[idx] + Total_Potential_Energy[idx]\n",
    "\n",
    "time = np.arange(0, len(file_paths) * 2, 2)\n",
    "\n",
    "plt.plot(time, Total_Kinetic_Energy, color='red', label='Kinetic Energy')\n",
    "plt.plot(time, Total_Potential_Energy, color='black', label='Potential Energy')\n",
    "plt.plot(time, Total_Energy_Euler, color='blue', label='Total Energy')\n",
    "plt.xlabel('Time')\n",
    "plt.ylabel('Energy')\n",
    "plt.title('Time-Energy using euler')\n",
    "plt.legend()\n",
    "plt.show()\n",
    "print(Total_Kinetic_Energy)\n",
    "print(Total_Potential_Energy)\n",
    "print(Total_Energy_Euler)"
   ]
  },
  {
   "cell_type": "markdown",
   "metadata": {},
   "source": [
    "after euler, let's use RK2:"
   ]
  },
  {
   "cell_type": "code",
   "execution_count": null,
   "metadata": {},
   "outputs": [],
   "source": [
    "particles = Particles(N = num_particles)             #將設好的初始值丟入particles class\n",
    "particles.mass = mass\n",
    "particles.position = position\n",
    "particles.velocity = velocity\n",
    "particles.acceleration = accleration\n",
    "particles.tag = tag\n",
    "\n",
    "simulation = NBodySimulator(particles=particles)\n",
    "simulation.setup(G=0.1, rsoft=0.01, method='rk2',outfreq=200)  #因為dt=0.01,所以若要2秒一個數據則頻率為200*dt=2\n",
    "simulation.evolve(dt = 0.01, tmax = 10.01)\n",
    "\n",
    "file_paths = [\n",
    "    'data_nbody\\\\nbody_000000.dat',\n",
    "    'data_nbody\\\\nbody_000200.dat',\n",
    "    'data_nbody\\\\nbody_000400.dat',\n",
    "    'data_nbody\\\\nbody_000600.dat',\n",
    "    'data_nbody\\\\nbody_000800.dat',\n",
    "    'data_nbody\\\\nbody_001000.dat'\n",
    "]\n",
    "\n",
    "Total_Kinetic_Energy = np.zeros(len(file_paths))\n",
    "Total_Potential_Energy = np.zeros(len(file_paths))\n",
    "Total_Energy_RK2 = np.zeros(len(file_paths))\n",
    "\n",
    "for idx, file_path in enumerate(file_paths):\n",
    "    data = np.loadtxt(file_path)\n",
    "    Total_Kinetic_Energy[idx] = np.sum(data[11, :])\n",
    "    Total_Potential_Energy[idx] = np.sum(data[12, :])\n",
    "    Total_Energy_RK2[idx] = Total_Kinetic_Energy[idx] + Total_Potential_Energy[idx]\n",
    "\n",
    "time = np.arange(0, len(file_paths) * 2, 2)\n",
    "\n",
    "plt.plot(time, Total_Kinetic_Energy, color='red', label='Kinetic Energy')\n",
    "plt.plot(time, Total_Potential_Energy, color='black', label='Potential Energy')\n",
    "plt.plot(time, Total_Energy_RK2, color='blue', label='Total Energy')\n",
    "plt.xlabel('Time')\n",
    "plt.ylabel('Energy')\n",
    "plt.title('Time-Energy using rk2')\n",
    "plt.legend()\n",
    "plt.show()\n",
    "print(Total_Kinetic_Energy)\n",
    "print(Total_Potential_Energy)\n",
    "print(Total_Energy_RK2)"
   ]
  },
  {
   "cell_type": "markdown",
   "metadata": {},
   "source": [
    "and, RK4:"
   ]
  },
  {
   "cell_type": "code",
   "execution_count": null,
   "metadata": {},
   "outputs": [],
   "source": [
    "particles = Particles(N = num_particles)             #將設好的初始值丟入particles class\n",
    "particles.mass = mass\n",
    "particles.position = position\n",
    "particles.velocity = velocity\n",
    "particles.acceleration = accleration\n",
    "particles.tag = tag\n",
    "\n",
    "simulation = NBodySimulator(particles=particles)\n",
    "simulation.setup(G=0.1, rsoft=0.01, method='rk2',outfreq=200)  #因為dt=0.01,所以若要2秒一個數據則頻率為200*dt=2\n",
    "simulation.evolve(dt = 0.01, tmax = 10.01)\n",
    "\n",
    "file_paths = [\n",
    "    'data_nbody\\\\nbody_000000.dat',\n",
    "    'data_nbody\\\\nbody_000200.dat',\n",
    "    'data_nbody\\\\nbody_000400.dat',\n",
    "    'data_nbody\\\\nbody_000600.dat',\n",
    "    'data_nbody\\\\nbody_000800.dat',\n",
    "    'data_nbody\\\\nbody_001000.dat'\n",
    "]\n",
    "\n",
    "Total_Kinetic_Energy = np.zeros(len(file_paths))\n",
    "Total_Potential_Energy = np.zeros(len(file_paths))\n",
    "Total_Energy_RK4 = np.zeros(len(file_paths))\n",
    "\n",
    "for idx, file_path in enumerate(file_paths):\n",
    "    data = np.loadtxt(file_path)\n",
    "    Total_Kinetic_Energy[idx] = np.sum(data[11, :])\n",
    "    Total_Potential_Energy[idx] = np.sum(data[12, :])\n",
    "    Total_Energy_RK4[idx] = Total_Kinetic_Energy[idx] + Total_Potential_Energy[idx]\n",
    "\n",
    "time = np.arange(0, len(file_paths) * 2, 2)\n",
    "\n",
    "plt.plot(time, Total_Kinetic_Energy, color='red', label='Kinetic Energy')\n",
    "plt.plot(time, Total_Potential_Energy, color='black', label='Potential Energy')\n",
    "plt.plot(time, Total_Energy_RK4, color='blue', label='Total Energy')\n",
    "plt.xlabel('Time')\n",
    "plt.ylabel('Energy')\n",
    "plt.title('Time-Energy using rk4')\n",
    "plt.legend()\n",
    "plt.show()\n",
    "print(Total_Kinetic_Energy)\n",
    "print(Total_Potential_Energy)\n",
    "print(Total_Energy_RK4)"
   ]
  },
  {
   "cell_type": "markdown",
   "metadata": {},
   "source": [
    "finally, leap frog:"
   ]
  },
  {
   "cell_type": "code",
   "execution_count": null,
   "metadata": {},
   "outputs": [
    {
     "name": "stdout",
     "output_type": "stream",
     "text": [
      "n 0 Time 0 dt: 0.01\n",
      "n 20 Time 0.20000000000000004 dt: 0.01\n",
      "n 40 Time 0.4000000000000002 dt: 0.01\n",
      "n 60 Time 0.6000000000000003 dt: 0.01\n",
      "n 80 Time 0.8000000000000005 dt: 0.01\n",
      "n 100 Time 1.0000000000000007 dt: 0.01\n",
      "n 120 Time 1.2000000000000008 dt: 0.01\n",
      "n 140 Time 1.400000000000001 dt: 0.01\n",
      "n 160 Time 1.6000000000000012 dt: 0.01\n",
      "n 180 Time 1.8000000000000014 dt: 0.01\n",
      "n 200 Time 2.0000000000000013 dt: 0.01\n",
      "n 220 Time 2.199999999999997 dt: 0.01\n",
      "n 240 Time 2.399999999999993 dt: 0.01\n",
      "n 260 Time 2.5999999999999885 dt: 0.01\n",
      "n 280 Time 2.7999999999999843 dt: 0.01\n",
      "n 300 Time 2.99999999999998 dt: 0.01\n",
      "n 320 Time 3.1999999999999758 dt: 0.01\n",
      "n 340 Time 3.3999999999999715 dt: 0.01\n",
      "n 360 Time 3.5999999999999672 dt: 0.01\n",
      "n 380 Time 3.799999999999963 dt: 0.01\n",
      "n 400 Time 3.9999999999999587 dt: 0.01\n",
      "n 420 Time 4.199999999999955 dt: 0.01\n",
      "n 440 Time 4.399999999999951 dt: 0.01\n",
      "n 460 Time 4.599999999999946 dt: 0.01\n",
      "n 480 Time 4.799999999999942 dt: 0.01\n",
      "n 500 Time 4.999999999999938 dt: 0.01\n",
      "n 520 Time 5.199999999999934 dt: 0.01\n",
      "n 540 Time 5.399999999999929 dt: 0.01\n",
      "n 560 Time 5.599999999999925 dt: 0.01\n",
      "n 580 Time 5.799999999999921 dt: 0.01\n",
      "n 600 Time 5.9999999999999165 dt: 0.01\n",
      "n 620 Time 6.199999999999912 dt: 0.01\n",
      "n 640 Time 6.399999999999908 dt: 0.01\n",
      "n 660 Time 6.599999999999904 dt: 0.01\n",
      "n 680 Time 6.7999999999998995 dt: 0.01\n",
      "n 700 Time 6.999999999999895 dt: 0.01\n",
      "n 720 Time 7.199999999999891 dt: 0.01\n",
      "n 740 Time 7.399999999999887 dt: 0.01\n",
      "n 760 Time 7.599999999999882 dt: 0.01\n",
      "n 780 Time 7.799999999999878 dt: 0.01\n",
      "n 800 Time 7.999999999999874 dt: 0.01\n",
      "n 820 Time 8.19999999999987 dt: 0.01\n",
      "n 840 Time 8.399999999999865 dt: 0.01\n",
      "n 860 Time 8.599999999999861 dt: 0.01\n",
      "n 880 Time 8.799999999999857 dt: 0.01\n",
      "n 900 Time 8.999999999999853 dt: 0.01\n",
      "n 920 Time 9.199999999999848 dt: 0.01\n",
      "n 940 Time 9.399999999999844 dt: 0.01\n",
      "n 960 Time 9.59999999999984 dt: 0.01\n",
      "n 980 Time 9.799999999999836 dt: 0.01\n",
      "n 1000 Time 9.999999999999831 dt: 0.01\n",
      "Simulation finished.\n"
     ]
    },
    {
     "data": {
      "image/png": "[encoded data removed]",
      "text/plain": [
       "<Figure size 640x480 with 1 Axes>"
      ]
     },
     "metadata": {},
     "output_type": "display_data"
    },
    {
     "name": "stdout",
     "output_type": "stream",
     "text": [
      "[28.88426787 28.66090892 28.32211756 27.83872734 27.27763408 26.57350759\n",
      " 25.91150165 25.18121247 24.60087533 24.13647299 23.73778725 21.40589019\n",
      " 20.46234404 19.97459738 19.6614041 ]\n",
      "[-10.62067493 -10.39325496 -10.05266507  -9.56692603  -9.00331508\n",
      "  -8.29712612  -7.6326706   -6.89968966  -6.31724551  -5.8509837\n",
      "  -5.45096999  -3.11118535  -2.16423407  -1.67467326  -1.36036057]\n",
      "[18.26359294 18.26765396 18.26945249 18.2718013  18.27431899 18.27638147\n",
      " 18.27883106 18.28152281 18.28362983 18.28548928 18.28681726 18.29470484\n",
      " 18.29810997 18.29992412 18.30104353]\n"
     ]
    }
   ],
   "source": [
    "particles = Particles(N = num_particles)             #將設好的初始值丟入particles class\n",
    "particles.mass = mass\n",
    "particles.position = position\n",
    "particles.velocity = velocity\n",
    "particles.acceleration = accleration\n",
    "particles.tag = tag\n",
    "\n",
    "simulation = NBodySimulator(particles=particles)\n",
    "simulation.setup(G=0.1, rsoft=0.01, method='frog',outfreq=20)  #因為dt=0.01,所以若要2秒一個數據則頻率為200*dt=2\n",
    "simulation.evolve(dt = 0.01, tmax = 10.01)\n",
    "\n",
    "file_paths = [\n",
    "    'data_nbody\\\\nbody_000000.dat',\n",
    "    'data_nbody\\\\nbody_000020.dat',\n",
    "    'data_nbody\\\\nbody_000040.dat',\n",
    "    'data_nbody\\\\nbody_000060.dat',\n",
    "    'data_nbody\\\\nbody_000080.dat',\n",
    "    'data_nbody\\\\nbody_000100.dat',\n",
    "    'data_nbody\\\\nbody_000120.dat',\n",
    "    'data_nbody\\\\nbody_000140.dat',\n",
    "    'data_nbody\\\\nbody_000160.dat',\n",
    "    'data_nbody\\\\nbody_000180.dat',\n",
    "    'data_nbody\\\\nbody_000200.dat',\n",
    "    'data_nbody\\\\nbody_000400.dat',\n",
    "    'data_nbody\\\\nbody_000600.dat',\n",
    "    'data_nbody\\\\nbody_000800.dat',\n",
    "    'data_nbody\\\\nbody_001000.dat'\n",
    "]\n",
    "\n",
    "Total_Kinetic_Energy = np.zeros(len(file_paths))\n",
    "Total_Potential_Energy = np.zeros(len(file_paths))\n",
    "Total_Energy_Frog = np.zeros(len(file_paths))\n",
    "\n",
    "for idx, file_path in enumerate(file_paths):\n",
    "    data = np.loadtxt(file_path)\n",
    "    Total_Kinetic_Energy[idx] = np.sum(data[11, :])\n",
    "    Total_Potential_Energy[idx] = np.sum(data[12, :])\n",
    "    Total_Energy_Frog[idx] = Total_Kinetic_Energy[idx] + Total_Potential_Energy[idx]\n",
    "\n",
    "time = np.arange(0, len(file_paths) * 2, 2)\n",
    "\n",
    "plt.plot(time, Total_Kinetic_Energy, color='red', label='Kinetic Energy')\n",
    "plt.plot(time, Total_Potential_Energy, color='black', label='Potential Energy')\n",
    "plt.plot(time, Total_Energy_Frog, color='blue', label='Total Energy')\n",
    "plt.xlabel('Time')\n",
    "plt.ylabel('Energy')\n",
    "plt.title('Time-Energy using leap-frog')\n",
    "plt.legend()\n",
    "plt.show()\n",
    "print(Total_Kinetic_Energy)\n",
    "print(Total_Potential_Energy)\n",
    "print(Total_Energy_Frog)"
   ]
  },
  {
   "cell_type": "markdown",
   "metadata": {},
   "source": [
    "I will also put all total energy in one picture:"
   ]
  },
  {
   "cell_type": "code",
   "execution_count": null,
   "metadata": {},
   "outputs": [],
   "source": [
    "plt.plot(time, Total_Energy_Euler, color='red', label='Total Energy for Euler')\n",
    "plt.plot(time, Total_Energy_RK2, color='blue', label='Total Energy for RK2')\n",
    "plt.plot(time, Total_Energy_RK4, color='yellow', label='Total Energy for RK4')\n",
    "plt.plot(time, Total_Energy_Frog, color='green', label='Total Energy for Leap-frog')\n",
    "plt.xlabel('Time')\n",
    "plt.ylabel('Energy')\n",
    "plt.title('Time-Total Energy using diffrent method')\n",
    "plt.legend()\n",
    "plt.show()"
   ]
  }
 ],
 "metadata": {
  "kernelspec": {
   "display_name": "computationphysics2024",
   "language": "python",
   "name": "python3"
  },
  "language_info": {
   "codemirror_mode": {
    "name": "ipython",
    "version": 3
   },
   "file_extension": ".py",
   "mimetype": "text/x-python",
   "name": "python",
   "nbconvert_exporter": "python",
   "pygments_lexer": "ipython3",
   "version": "3.11.7"
  }
 },
 "nbformat": 4,
 "nbformat_minor": 2
}
